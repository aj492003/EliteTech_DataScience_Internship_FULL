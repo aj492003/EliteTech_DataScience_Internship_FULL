import pandas as pd
from sklearn.preprocessing import StandardScaler

df = pd.read_csv("raw_data.csv")
df["Age"].fillna(df["Age"].mean(), inplace=True)
df["Salary"].fillna(df["Salary"].mean(), inplace=True)

scaler = StandardScaler()
df[["Age", "Salary"]] = scaler.fit_transform(df[["Age", "Salary"]])

df.to_csv("cleaned_data.csv", index=False)
print("ETL Complete")